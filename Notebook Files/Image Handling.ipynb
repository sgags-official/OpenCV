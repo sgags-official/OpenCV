{
 "cells": [
  {
   "cell_type": "code",
   "execution_count": 13,
   "id": "868e9f1e-f612-4bf6-b0d6-a56a0f30dbf4",
   "metadata": {},
   "outputs": [],
   "source": [
    "import cv2\n",
    "\n",
    "image = cv2.imread(\"C:/Users/Sgags/Downloads/image.jpg\")\n",
    "\n",
    "cv2.imshow(\"Fish\", image)\n",
    "\n",
    "cv2.waitKey(0)\n",
    "\n",
    "cv2.destroyAllWindows()"
   ]
  },
  {
   "cell_type": "code",
   "execution_count": 14,
   "id": "0ca1fedf-9e09-4777-acff-896a920cbd4a",
   "metadata": {},
   "outputs": [],
   "source": [
    "import cv2\n",
    "\n",
    "image = cv2.imread(\"C:/Users/Sgags/Downloads/image.jpg\",cv2.IMREAD_GRAYSCALE)\n",
    "\n",
    "cv2.imshow(\"Image\", image)\n",
    "\n",
    "cv2.waitKey(0)\n",
    "cv2.destroyAllWindows()"
   ]
  },
  {
   "cell_type": "code",
   "execution_count": 15,
   "id": "9ed8245c-0841-4414-bce2-d8ca66e5c6c0",
   "metadata": {},
   "outputs": [],
   "source": [
    "import cv2\n",
    "image = cv2.imread(\"C:/Users/Sgags/Downloads/image_bg.png\",cv2.IMREAD_UNCHANGED)\n",
    "\n",
    "cv2.imshow(\"Image\", image)\n",
    "\n",
    "cv2.waitKey(0)\n",
    "cv2.destroyAllWindows()"
   ]
  },
  {
   "cell_type": "code",
   "execution_count": null,
   "id": "c134d918-9781-4fb2-b36b-f74910981575",
   "metadata": {},
   "outputs": [],
   "source": []
  }
 ],
 "metadata": {
  "kernelspec": {
   "display_name": "Python 3 (ipykernel)",
   "language": "python",
   "name": "python3"
  },
  "language_info": {
   "codemirror_mode": {
    "name": "ipython",
    "version": 3
   },
   "file_extension": ".py",
   "mimetype": "text/x-python",
   "name": "python",
   "nbconvert_exporter": "python",
   "pygments_lexer": "ipython3",
   "version": "3.12.6"
  }
 },
 "nbformat": 4,
 "nbformat_minor": 5
}
